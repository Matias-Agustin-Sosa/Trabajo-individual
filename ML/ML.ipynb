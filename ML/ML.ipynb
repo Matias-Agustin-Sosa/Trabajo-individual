{
 "cells": [
  {
   "cell_type": "code",
   "execution_count": 1,
   "metadata": {},
   "outputs": [],
   "source": [
    "import pandas as pd\n",
    "from sklearn.feature_extraction.text import TfidfVectorizer\n",
    "from sklearn.metrics.pairwise import linear_kernel\n",
    "import ast"
   ]
  },
  {
   "cell_type": "code",
   "execution_count": 2,
   "metadata": {},
   "outputs": [],
   "source": [
    "df_m = pd.read_csv(\"Movies_dataset(ETL)_Final.csv\")"
   ]
  },
  {
   "cell_type": "code",
   "execution_count": 3,
   "metadata": {},
   "outputs": [],
   "source": [
    "# me quedo con las columnas de interes\n",
    "datos = df_m[[\"title\",\"vote_average\",\"genres\"]]"
   ]
  },
  {
   "cell_type": "code",
   "execution_count": 4,
   "metadata": {},
   "outputs": [],
   "source": [
    "# extraigo solo el primer genero de la lista de genres, no uso mas por temas de procesamiento en render\n",
    "lista = []\n",
    "for i in datos[\"genres\"].apply(ast.literal_eval):\n",
    "    contador = 0\n",
    "    if i == []:\n",
    "        lista.append(\"Sin Dato\")\n",
    "    else:\n",
    "        for e in i:\n",
    "            if contador == 0:\n",
    "                lista.append(i[0])\n",
    "                contador += 1"
   ]
  },
  {
   "cell_type": "code",
   "execution_count": 5,
   "metadata": {},
   "outputs": [
    {
     "name": "stderr",
     "output_type": "stream",
     "text": [
      "C:\\Users\\matia\\AppData\\Local\\Temp\\ipykernel_9156\\2856368311.py:1: SettingWithCopyWarning: \n",
      "A value is trying to be set on a copy of a slice from a DataFrame.\n",
      "Try using .loc[row_indexer,col_indexer] = value instead\n",
      "\n",
      "See the caveats in the documentation: https://pandas.pydata.org/pandas-docs/stable/user_guide/indexing.html#returning-a-view-versus-a-copy\n",
      "  datos[\"genres\"] = lista\n"
     ]
    }
   ],
   "source": [
    "# creo un data set chiquito, no uso mas filas por temas de procesamiento en render\n",
    "datos[\"genres\"] = lista\n",
    "datos.head(5000).to_csv(\"Datos_ML(5mil registros).csv\")"
   ]
  },
  {
   "cell_type": "code",
   "execution_count": 2,
   "metadata": {},
   "outputs": [],
   "source": [
    "datos = pd.read_csv(\"Datos_ML(5mil registros).csv\")"
   ]
  },
  {
   "cell_type": "code",
   "execution_count": 3,
   "metadata": {},
   "outputs": [],
   "source": [
    "palabras = [\"the\",\"and\",\"in\",\"of\"]\n",
    "vector = TfidfVectorizer(stop_words = palabras)\n",
    "matrix = vector.fit_transform(datos[\"title\"])"
   ]
  },
  {
   "cell_type": "code",
   "execution_count": 4,
   "metadata": {},
   "outputs": [],
   "source": [
    "similitud_cos = linear_kernel(matrix, matrix)"
   ]
  },
  {
   "cell_type": "code",
   "execution_count": 5,
   "metadata": {},
   "outputs": [],
   "source": [
    "def recomendacion(titulo):\n",
    "    if titulo not in datos[\"title\"].values:\n",
    "        return f\"¡El titulo {titulo} no existe!\"\n",
    "    \n",
    "    indice = pd.Series(datos.index, index = datos[\"title\"]).drop_duplicates()\n",
    "    i_d = indice[titulo]\n",
    "\n",
    "    similitud = list(enumerate(similitud_cos[i_d]))\n",
    "\n",
    "    similitud = sorted(similitud, key = lambda x: x[1], reverse = True)\n",
    "\n",
    "    similitud = similitud[1:6]\n",
    "    peliculas_indice = [x[0] for x in similitud]\n",
    "\n",
    "    respuesta = datos[\"title\"].iloc[peliculas_indice].tolist()\n",
    "    return f\"Lista de paliculas recomendadas: {respuesta}\"\n",
    "\n"
   ]
  },
  {
   "cell_type": "code",
   "execution_count": 6,
   "metadata": {},
   "outputs": [
    {
     "data": {
      "text/plain": [
       "\"Lista de paliculas recomendadas: ['The Matrix Reloaded', 'The Matrix Revolutions', 'Toy Story', 'Jumanji', 'Grumpier Old Men']\""
      ]
     },
     "execution_count": 6,
     "metadata": {},
     "output_type": "execute_result"
    }
   ],
   "source": [
    "recomendacion(\"The Matrix\")"
   ]
  }
 ],
 "metadata": {
  "kernelspec": {
   "display_name": "Python 3",
   "language": "python",
   "name": "python3"
  },
  "language_info": {
   "codemirror_mode": {
    "name": "ipython",
    "version": 3
   },
   "file_extension": ".py",
   "mimetype": "text/x-python",
   "name": "python",
   "nbconvert_exporter": "python",
   "pygments_lexer": "ipython3",
   "version": "3.11.9"
  }
 },
 "nbformat": 4,
 "nbformat_minor": 2
}
